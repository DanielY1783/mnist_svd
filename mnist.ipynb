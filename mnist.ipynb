{
 "cells": [
  {
   "cell_type": "markdown",
   "metadata": {},
   "source": [
    "# MNIST SVD Classification\n",
    "Follows Chapter 11 of Matrix Methods in Data Mining and Pattern Recognition by Lars Elden,\n",
    "with added dimensionality reduction visualization\n",
    "#### Author: Daniel Yan\n",
    "#### Email: daniel.yan@vanderbilt.edu"
   ]
  },
  {
   "cell_type": "code",
   "execution_count": null,
   "metadata": {},
   "outputs": [
    {
     "name": "stderr",
     "output_type": "stream",
     "text": [
      "Using TensorFlow backend.\n"
     ]
    }
   ],
   "source": [
    "from keras.datasets import mnist\n",
    "from matplotlib import pyplot as plt\n",
    "import numpy as np"
   ]
  },
  {
   "cell_type": "markdown",
   "metadata": {},
   "source": [
    "# Load Data"
   ]
  },
  {
   "cell_type": "markdown",
   "metadata": {},
   "source": [
    "Load in Keras dataset"
   ]
  },
  {
   "cell_type": "code",
   "execution_count": null,
   "metadata": {},
   "outputs": [],
   "source": [
    "# Load in mnist\n",
    "(x_train, y_train), (x_test, y_test) = mnist.load_data()\n",
    "# Reshape to each image to a row vector and column vector\n",
    "x_train_rowvector = np.reshape(x_train, (-1, 28*28))\n",
    "x_train_colvector = np.copy(x_train_rowvector).T\n",
    "x_test_rowvector = np.reshape(x_test, (-1, 28*28))\n",
    "x_test_colvector = np.copy(x_test_rowvector).T\n",
    "# Take small sample of 2000 training images\n",
    "x_train_colvector_sample2000 = x_train_colvector[:, :2000]\n",
    "y_train_sample2000 = y_train[:2000]\n",
    "# Take small sample of 200 testing images\n",
    "x_test_colvector_sample200 = x_test_colvector[:, :200]\n",
    "y_test_sample200 = y_test[:200]"
   ]
  },
  {
   "cell_type": "markdown",
   "metadata": {},
   "source": [
    "# Visualize Examples"
   ]
  },
  {
   "cell_type": "code",
   "execution_count": null,
   "metadata": {},
   "outputs": [],
   "source": [
    "# Visualize a few samples\n",
    "for i in range(5):\n",
    "    print(\"Label: \", y_train[i])\n",
    "    image = x_train_colvector[:, i]\n",
    "    plt.imshow(image.reshape(28, 28), cmap=\"Greys\")\n",
    "    plt.show()\n",
    "    plt.close()"
   ]
  },
  {
   "cell_type": "markdown",
   "metadata": {},
   "source": [
    "# PCA Visualization\n",
    "Credits: https://towardsdatascience.com/pca-and-svd-explained-with-numpy-5d13b0d2a4d8"
   ]
  },
  {
   "cell_type": "code",
   "execution_count": null,
   "metadata": {},
   "outputs": [],
   "source": [
    "# Calculate the covariance matrix\n",
    "covariance = np.cov(x_train_colvector_sample2000)"
   ]
  },
  {
   "cell_type": "code",
   "execution_count": null,
   "metadata": {},
   "outputs": [],
   "source": [
    "# Calculate the eigenvalues and the eigenvectors for the covariance matrix\n",
    "eigenvalues, eigenvectors = np.linalg.eig(covariance)"
   ]
  },
  {
   "cell_type": "code",
   "execution_count": null,
   "metadata": {},
   "outputs": [],
   "source": [
    "# Get the real part of the eigenvalues and eigenvectors only\n",
    "eigenvalues = np.real(eigenvalues)\n",
    "eigenvectors = np.real(eigenvectors)"
   ]
  },
  {
   "cell_type": "code",
   "execution_count": null,
   "metadata": {},
   "outputs": [],
   "source": [
    "# Project original data onto eigenvectors\n",
    "pca = np.dot(x_train_colvector_sample2000.T, eigenvectors)\n",
    "# Get only the first two columns for the first two principal components\n",
    "pca = pca[:, 0:2]"
   ]
  },
  {
   "cell_type": "markdown",
   "metadata": {},
   "source": [
    "Sort by label"
   ]
  },
  {
   "cell_type": "code",
   "execution_count": null,
   "metadata": {},
   "outputs": [],
   "source": [
    "pca_list= [0] * 10\n",
    "y_list = [0] * 10\n",
    "for i in range(10):\n",
    "    pca_list[i] = (pca[y_train_sample2000 == i])\n",
    "    y_list[i] = (y_train_sample2000[y_train_sample2000 == i])"
   ]
  },
  {
   "cell_type": "markdown",
   "metadata": {},
   "source": [
    "Plot each label separately on graph"
   ]
  },
  {
   "cell_type": "code",
   "execution_count": null,
   "metadata": {},
   "outputs": [],
   "source": [
    "COLORS = [\"red\", \"blue\", \"green\", \"yellow\", \"darkviolet\", \n",
    "          \"maroon\", \"greenyellow\", \"hotpink\", \"black\", \"cyan\"]\n",
    "fig, ax = plt.subplots()\n",
    "for i in range(10):\n",
    "    # Get the pca array corresponding to the current label\n",
    "    pca_current_label = pca_list[i]\n",
    "    ax.scatter(pca_current_label[:, 0], pca_current_label[:, 1],\n",
    "               c=COLORS[i], label=str(i))\n",
    "\n",
    "ax.legend()\n",
    "plt.show()                   "
   ]
  },
  {
   "cell_type": "markdown",
   "metadata": {},
   "source": [
    "Calculate and plot the mean for each digit in PCA coordinates"
   ]
  },
  {
   "cell_type": "code",
   "execution_count": null,
   "metadata": {},
   "outputs": [],
   "source": [
    "pca_mean_list = [0] * 10\n",
    "for i in range(10): \n",
    "    pca_mean_list[i] = np.mean(pca_list[i], axis=0)"
   ]
  },
  {
   "cell_type": "code",
   "execution_count": null,
   "metadata": {},
   "outputs": [],
   "source": [
    "COLORS = [\"red\", \"blue\", \"green\", \"yellow\", \"darkviolet\", \n",
    "          \"maroon\", \"greenyellow\", \"hotpink\", \"black\", \"cyan\"]\n",
    "fig, ax = plt.subplots()\n",
    "for i in range(10):\n",
    "    # Get the pca array corresponding to the current label\n",
    "    pca_current_label = pca_mean_list[i]\n",
    "    ax.scatter(pca_current_label[0], pca_current_label[1],\n",
    "               c=COLORS[i], label=str(i))\n",
    "\n",
    "ax.legend()\n",
    "plt.show()  "
   ]
  },
  {
   "cell_type": "markdown",
   "metadata": {},
   "source": [
    "\n",
    "# SVD Visualization\n",
    "Compare the PCA visualization with SVD dimensionality reduction"
   ]
  },
  {
   "cell_type": "markdown",
   "metadata": {},
   "source": [
    "Calculate SVD and use dimensionality reduction to get down to 2 coordinates"
   ]
  },
  {
   "cell_type": "code",
   "execution_count": null,
   "metadata": {},
   "outputs": [],
   "source": [
    "# Calculate u, s, v\n",
    "u, s, v = np.linalg.svd(x_train_colvector_sample2000, full_matrices=False)\n",
    "# Set all singular values greater than the first two to 0\n",
    "for i in range(2, s.shape[0]):\n",
    "    s[i] = 0\n",
    "# Calculate the reduced dimensions with svd\n",
    "svd_cords = np.diag(s) @ v"
   ]
  },
  {
   "cell_type": "markdown",
   "metadata": {},
   "source": [
    "Sort by label"
   ]
  },
  {
   "cell_type": "code",
   "execution_count": null,
   "metadata": {},
   "outputs": [],
   "source": [
    "svd_list= [0] * 10\n",
    "for i in range(10):\n",
    "    svd_list[i] = (svd_cords.T[y_train_sample2000 == i])"
   ]
  },
  {
   "cell_type": "markdown",
   "metadata": {},
   "source": [
    "Plot the SVD coordinates"
   ]
  },
  {
   "cell_type": "code",
   "execution_count": null,
   "metadata": {},
   "outputs": [],
   "source": [
    "COLORS = [\"red\", \"blue\", \"green\", \"yellow\", \"darkviolet\", \n",
    "          \"maroon\", \"greenyellow\", \"hotpink\", \"black\", \"cyan\"]\n",
    "fig, ax = plt.subplots()\n",
    "for i in range(10):\n",
    "    # Get the pca array corresponding to the current label\n",
    "    svd_current_label = svd_list[i]\n",
    "    ax.scatter(svd_current_label[:, 0], svd_current_label[:, 1],\n",
    "               c=COLORS[i], label=str(i))\n",
    "\n",
    "ax.legend()\n",
    "plt.show()  "
   ]
  },
  {
   "cell_type": "markdown",
   "metadata": {},
   "source": [
    "Calculate and plot the mean for each digit in SVD coordinates\n"
   ]
  },
  {
   "cell_type": "code",
   "execution_count": null,
   "metadata": {},
   "outputs": [],
   "source": [
    "svd_mean_list = [0] * 10\n",
    "for i in range(10): \n",
    "    svd_mean_list[i] = np.mean(svd_list[i], axis=0)"
   ]
  },
  {
   "cell_type": "code",
   "execution_count": null,
   "metadata": {},
   "outputs": [],
   "source": [
    "COLORS = [\"red\", \"blue\", \"green\", \"yellow\", \"darkviolet\", \n",
    "          \"maroon\", \"greenyellow\", \"hotpink\", \"black\", \"cyan\"]\n",
    "fig, ax = plt.subplots()\n",
    "for i in range(10):\n",
    "    # Get the pca array corresponding to the current label\n",
    "    svd_current_label = svd_mean_list[i]\n",
    "    ax.scatter(svd_current_label[0], svd_current_label[1],\n",
    "               c=COLORS[i], label=str(i))\n",
    "\n",
    "ax.legend()\n",
    "plt.show()  "
   ]
  },
  {
   "cell_type": "markdown",
   "metadata": {},
   "source": [
    "# Sorting Training Digits By Label"
   ]
  },
  {
   "cell_type": "markdown",
   "metadata": {},
   "source": [
    "Sort the training images by label"
   ]
  },
  {
   "cell_type": "code",
   "execution_count": null,
   "metadata": {},
   "outputs": [],
   "source": [
    "x_list= [0] * 10\n",
    "y_list = [0] * 10\n",
    "for i in range(10):\n",
    "    # Get x and y values in each label by the coordinate in the list\n",
    "    x_list[i] = (x_train_colvector[:, y_train == i])\n",
    "    y_list[i] = (y_train[y_train == i])"
   ]
  },
  {
   "cell_type": "markdown",
   "metadata": {},
   "source": [
    "# Mean Clustering Classification"
   ]
  },
  {
   "cell_type": "markdown",
   "metadata": {},
   "source": [
    "Calculate the Mean Image for Each Digit"
   ]
  },
  {
   "cell_type": "code",
   "execution_count": null,
   "metadata": {},
   "outputs": [],
   "source": [
    "means_list = [0] * 10\n",
    "for i in range(10):\n",
    "    means_list[i] = np.mean(x_list[i], axis=1)"
   ]
  },
  {
   "cell_type": "markdown",
   "metadata": {},
   "source": [
    "Visualize the Mean Image for Each Digit"
   ]
  },
  {
   "cell_type": "code",
   "execution_count": null,
   "metadata": {},
   "outputs": [],
   "source": [
    "for i in range(10):\n",
    "    print(\"Mean Image for Digit\", i)\n",
    "    image = means_list[i]\n",
    "    # Show singular image\n",
    "    plt.imshow(image.reshape(28, 28), cmap=\"Greys\")\n",
    "    plt.show()\n",
    "    plt.close()"
   ]
  },
  {
   "cell_type": "markdown",
   "metadata": {},
   "source": [
    "Classify Each Unknown Digit by the Mean Image"
   ]
  },
  {
   "cell_type": "code",
   "execution_count": null,
   "metadata": {},
   "outputs": [],
   "source": [
    "# Create vector for y predictions\n",
    "y_pred = np.zeros(len(y_test_sample200))\n",
    "# Iterate through all the testing images and make a prediction\n",
    "for i in range(len(y_pred)):\n",
    "    # Get the unknown digit\n",
    "    x = x_test_colvector_sample200[:, i]\n",
    "    # Calculate the residual of the digit to each of the mean digits\n",
    "    residuals = np.zeros(10)\n",
    "    for j in range(10):\n",
    "        # Calculate residual, \n",
    "        residuals[j] = np.linalg.norm(means_list[j] - x, ord=2)\n",
    "    # Find the minimum residual and store as prediction\n",
    "    y_pred[i] = np.argmin(residuals)"
   ]
  },
  {
   "cell_type": "markdown",
   "metadata": {},
   "source": [
    "Calculate the accuracy score"
   ]
  },
  {
   "cell_type": "code",
   "execution_count": null,
   "metadata": {},
   "outputs": [],
   "source": [
    "correct = np.where(y_pred == y_test_sample200, 1, 0)\n",
    "print(\"Accuracy For Mean Digit: \", np.sum(correct) / len(correct))"
   ]
  },
  {
   "cell_type": "markdown",
   "metadata": {},
   "source": [
    "# SVD Singular Images Visualization"
   ]
  },
  {
   "cell_type": "markdown",
   "metadata": {},
   "source": [
    "Compute Top 3 Singular Images for each digit and visualize"
   ]
  },
  {
   "cell_type": "code",
   "execution_count": null,
   "metadata": {},
   "outputs": [],
   "source": [
    "# Iterate through all the digits\n",
    "for i in range(10):\n",
    "    print(\"Visualizing Singular Images for \" + str(i))\n",
    "    # Calculate the SVD for that digit\n",
    "    u, s, v = np.linalg.svd(x_list[i], full_matrices=False)\n",
    "    # Visualize the first three singular images\n",
    "    for j in range(3):\n",
    "        print(\"Visualizing Singular Image Number \" + str(j))\n",
    "        # Get the singular image    \n",
    "        image = u[:, j]\n",
    "        # Show singular image\n",
    "        plt.imshow(image.reshape(28, 28), cmap=\"Greys\")\n",
    "        plt.show()\n",
    "        plt.close()"
   ]
  },
  {
   "cell_type": "markdown",
   "metadata": {},
   "source": [
    "# SVD Singular Image Classification"
   ]
  },
  {
   "cell_type": "markdown",
   "metadata": {},
   "source": [
    "Compute the Singular Value Decomposition for each digit"
   ]
  },
  {
   "cell_type": "code",
   "execution_count": null,
   "metadata": {},
   "outputs": [],
   "source": [
    "u_list = [0] * 10\n",
    "s_list = [0] * 10\n",
    "v_list = [0] * 10\n",
    "# Iterate through each digit\n",
    "for i in range(10):\n",
    "    # Calculate the SVD for that digit\n",
    "    u_list[i], s_list[i], v_list[i] = np.linalg.svd(x_list[i], full_matrices=False)"
   ]
  },
  {
   "cell_type": "markdown",
   "metadata": {},
   "source": [
    "Calculate the Accuracy for Different Number of Singular Images"
   ]
  },
  {
   "cell_type": "code",
   "execution_count": null,
   "metadata": {},
   "outputs": [],
   "source": [
    "# Store predictions and accuracy at different number of singular images used\n",
    "acc_list = [0] * 5\n",
    "pred_list = [0] * 5\n",
    "# Use only the first k basis image for classification\n",
    "for k in range(5):\n",
    "    # List to store the values of uk @ uk.T to get the singular images sum\n",
    "    uk_ukt_list = [0] * 10\n",
    "    # Iterate through all digits and calculate uk @ uk.T for that digit\n",
    "    for i in range(10):\n",
    "        uk = np.zeros((784, 784))\n",
    "        uk[:,0:k+1] = u_list[i][:, 0:k+1]\n",
    "        uk_ukt_list[i] = uk @ uk.T\n",
    "    # Iterate through the testing images and get the prediction for each image\n",
    "    # Initialize predictions to 0\n",
    "    y_pred = np.zeros(len(y_test_sample200))\n",
    "    # Iterate through all the testing images\n",
    "    for i in range(len(y_pred)):\n",
    "        # Get the unknown digit\n",
    "        x = x_test_colvector_sample200[:, i]\n",
    "        # Calculate the residual of the digit to each of the singular bases\n",
    "        residuals = np.zeros(10)\n",
    "        # Iterate through the 10 singular bases\n",
    "        for j in range(10):\n",
    "            # Calculate residual, which is norm of (I - uk @ uk.T) @ z \n",
    "            residuals[j] = np.linalg.norm((np.identity(28*28) - uk_ukt_list[j]) @ x, ord=2)\n",
    "        # Find the minimum residual and store that as the predicted digit\n",
    "        y_pred[i] = np.argmin(residuals)\n",
    "    # Store all the predictions for this threshold\n",
    "    pred_list[k] = y_pred\n",
    "    # Calculate and store the accuracy for this threshold\n",
    "    correct = np.where(y_pred == y_test_sample200, 1, 0)\n",
    "    accuracy = np.sum(correct) / len(correct)\n",
    "    print(\"Accuracy with\", k + 1, \"singular images: \", accuracy)\n",
    "    acc_list[k] = accuracy"
   ]
  }
 ],
 "metadata": {
  "kernelspec": {
   "display_name": "Python 3",
   "language": "python",
   "name": "python3"
  },
  "language_info": {
   "codemirror_mode": {
    "name": "ipython",
    "version": 3
   },
   "file_extension": ".py",
   "mimetype": "text/x-python",
   "name": "python",
   "nbconvert_exporter": "python",
   "pygments_lexer": "ipython3",
   "version": "3.6.8"
  }
 },
 "nbformat": 4,
 "nbformat_minor": 4
}
